{
 "cells": [
  {
   "cell_type": "markdown",
   "metadata": {},
   "source": [
    "# CPEG 586 – Assignment 1\n",
    "\n",
    "\n",
    "## Problem 1: \n",
    "\n",
    "Try the examples in the Python Handout (under the handouts link on the CPEG 586 website)."
   ]
  },
  {
   "cell_type": "code",
   "execution_count": null,
   "metadata": {
    "collapsed": true
   },
   "outputs": [],
   "source": [
    "# Copmpleted Offline"
   ]
  },
  {
   "attachments": {},
   "cell_type": "markdown",
   "metadata": {},
   "source": [
    "## Problem 2:\n",
    "In the lecture, we studied the Linear Least Squares Optimization for estimating the model\n",
    "parameters of a line to fit the given data. Do a second order polynomial fit to the following data using\n",
    "Linear Least Squares Optimization. Program the code using Python.\n",
    "\n",
    "\\begin{equation*}\n",
    "𝑓(\\vec{x}; \\vec{𝛽} ) = 𝛽_0 + 𝛽_1𝑥 + 𝛽_2𝑥^2 + ⋯\n",
    "\\end{equation*}\n",
    "\n",
    "|x|y|\n",
    "|---|---|\n",
    "|1|3.2|\n",
    "|2|6.4|\n",
    "|3|10.5|\n",
    "|4|17.7|\n",
    "|5|28.1|\n",
    "|6|38.5|\n",
    "\n",
    "\n",
    "![LeastLinearSquareImage.png](LeastLinearSquareImage.png)\n",
    "\n"
   ]
  },
  {
   "cell_type": "code",
   "execution_count": null,
   "metadata": {
    "collapsed": true
   },
   "outputs": [],
   "source": [
    "import numpy as np\n",
    "import matplotlib.pyplot as plt"
   ]
  },
  {
   "cell_type": "markdown",
   "metadata": {},
   "source": [
    "from http://mathworld.wolfram.com/LeastSquaresFittingPolynomial.html the following solution was obtained \n",
    "\n",
    "![function](NumberedEquation3.png)"
   ]
  },
  {
   "cell_type": "code",
   "execution_count": 4,
   "metadata": {
    "collapsed": true
   },
   "outputs": [],
   "source": [
    "def PolyFit(x,y,order):  #order will denote the tipe of curve: 1 = linear; > 1 Curve with n-1 inflections\n",
    "    dimension = order+1\n",
    "    A = np.zeros((dimension,dimension))\n",
    "    for row in range(dimension):\n",
    "        for col in range(dimension):\n",
    "            A[row,col] = np.sum(x**(row+col))\n",
    "    \n",
    "    Z = np.zeros(dimension)\n",
    "    for row in range(dimension):\n",
    "        Z[row] = np.sum(y*x**row)\n",
    "        ainv = np.linalg.inv(A)\n",
    "    \n",
    "    res = np.dot(ainv,Z)\n",
    "    res = res.reshape((res.shape[0],1))\n",
    "    \n",
    "    yfitted = np.zeros((x.shape[0],1))\n",
    "    for p in range(res.shape[0]):\n",
    "        yfitted = yfitted + x**(p) * res[p,0]\n",
    "        \n",
    "    return yfitted"
   ]
  },
  {
   "cell_type": "code",
   "execution_count": 6,
   "metadata": {
    "collapsed": true
   },
   "outputs": [],
   "source": [
    "def plot(x,y,yfitted):\n",
    "    area = 10\n",
    "    colors =['black']\n",
    "    plt.scatter(x, y, s=area, c=colors, alpha=0.5, linewidths=8)\n",
    "    plt.title('Linear Least Squares Regression')\n",
    "    plt.xlabel('x')\n",
    "    plt.ylabel('y')\n",
    "    #plot the fitted line\n",
    "\n",
    "    line,=plt.plot(x, yfitted, '--', linewidth=2) #line plot\n",
    "    line.set_color('red')\n",
    "    plt.show()"
   ]
  },
  {
   "cell_type": "code",
   "execution_count": 7,
   "metadata": {},
   "outputs": [
    {
     "data": {
      "image/png": "[encoded data removed]",
      "text/plain": [
       "<matplotlib.figure.Figure at 0x792b830>"
      ]
     },
     "metadata": {},
     "output_type": "display_data"
    }
   ],
   "source": [
    "x = np.array([[1],[2],[3],[4],[5],[6]])\n",
    "y = np.array([[3.2],[6.4],[10.5],[17.7],[28.1],[38.5]])\n",
    "yfitted = PolyFit(x,y,order=2)\n",
    "plot(x,y,yfitted)"
   ]
  },
  {
   "attachments": {},
   "cell_type": "markdown",
   "metadata": {},
   "source": [
    "# Problem 3\n",
    "\n",
    "![SingleNeuron.png](SingleNeuron.png)\n",
    "\n",
    "a) For the single neuron network described in lecture 1, show derivations for computing the\n",
    "   gradients w1, w2 and b.\n",
    "\n",
    "   Assume the network will be classifying using the decision boundary given by\n",
    "   y = 0.3 x + 2 "
   ]
  },
  {
   "cell_type": "code",
   "execution_count": null,
   "metadata": {
    "collapsed": true
   },
   "outputs": [],
   "source": [
    "# gradw = -(y-a)*x\n",
    "gradw = -1 * ((0.3*x +2)-(w*x+b))*x\n",
    "#gradb = -(y-a)\n",
    "gradb = -1 * ((0.3*x +2)-(w*x+b))*1"
   ]
  },
  {
   "cell_type": "markdown",
   "metadata": {},
   "source": [
    "In the lecture, x in above equation is referred to as x1, and y is referred to as x2. Y is the class that a\n",
    "given point at (x1,x2) belongs to. If the point is below the line, the class is 0, if the point is above the\n",
    "line, the class is 1.\n",
    "For example the training data may appear as:\n",
    "\n",
    "|X1| X2 |Y (class)|\n",
    "|---|---|---|\n",
    "|1 |2.2 |0|\n",
    "|1 |2.4 |1|\n",
    "|2 |2.5 |0|\n",
    "|2 |2.7 |1|\n",
    "|… |… |…|\n",
    "\n"
   ]
  },
  {
   "cell_type": "markdown",
   "metadata": {},
   "source": [
    "b) Program the back propagation algorithm according to the equations developed in part a).\n",
    "Once the network is trained, the test data to use in your program could be:\n",
    "\n",
    "|X1 |X2 |Expected output|\n",
    "|---|---|---|\n",
    "|1.5 |2.4 |0|\n",
    "|1.5 |2.5 |1|\n",
    "|2.5 |2.7 |0|\n",
    "|2.5 |2.8 |1|\n",
    "|… |… |…|"
   ]
  },
  {
   "cell_type": "code",
   "execution_count": 9,
   "metadata": {},
   "outputs": [],
   "source": [
    "# define backprop\n",
    "def BackProp(x,w,b):\n",
    "    a = w*x + b\n",
    "    y = 0.3*x + 2\n",
    "    gradb = -1 * (y-a)\n",
    "    gradw = gradb*x\n",
    "    w = w - 0.01 * gradw\n",
    "    b = b - 0.01 * gradb\n",
    "    return w,b"
   ]
  },
  {
   "cell_type": "code",
   "execution_count": 12,
   "metadata": {},
   "outputs": [
    {
     "name": "stdout",
     "output_type": "stream",
     "text": [
      "w = 0.30000000126722126  b =  1.9999999890530196\n"
     ]
    }
   ],
   "source": [
    "def train():\n",
    "    w = 0.1\n",
    "    b = 0.4\n",
    "    for j in range(1000):\n",
    "        for i in range(1,10):\n",
    "            w,b = BackProp(i,w,b)\n",
    "    print(\"w =\",w,\" b = \",b)\n",
    "    \n",
    "train()               "
   ]
  },
  {
   "cell_type": "code",
   "execution_count": null,
   "metadata": {
    "collapsed": true
   },
   "outputs": [],
   "source": []
  }
 ],
 "metadata": {
  "kernelspec": {
   "display_name": "Python 3",
   "language": "python",
   "name": "python3"
  },
  "language_info": {
   "codemirror_mode": {
    "name": "ipython",
    "version": 3
   },
   "file_extension": ".py",
   "mimetype": "text/x-python",
   "name": "python",
   "nbconvert_exporter": "python",
   "pygments_lexer": "ipython3",
   "version": "3.6.2"
  }
 },
 "nbformat": 4,
 "nbformat_minor": 2
}
